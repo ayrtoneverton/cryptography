{
 "cells": [
  {
   "cell_type": "code",
   "execution_count": 1,
   "metadata": {},
   "outputs": [],
   "source": [
    "%%capture\n",
    "%run Diffie-Hellman.ipynb\n",
    "%run RC4.ipynb\n",
    "%run SDES.ipynb\n",
    "\n",
    "import socket\n",
    "from _thread import start_new_thread\n",
    "\n",
    "key = None\n",
    "cipher = None\n",
    "ciphers = {'rc4': RC4, 'sdes': SDES}\n",
    "clients = []\n",
    "server = None\n",
    "waiting_answer_client = None\n",
    "source_secret = None\n",
    "# Note: using prime and alfa defined in Diffie-Hellman\n",
    "\n",
    "def listen_client(client, addr):\n",
    "    print(addr[0], 'connected!')\n",
    "    clients.append([addr[0], client])\n",
    "    while clients:\n",
    "        try:\n",
    "            result = client.recv(2048)\n",
    "            if waiting_answer_client:\n",
    "                answer_client(result)\n",
    "            else:\n",
    "                show_msg(addr[0], result, client)\n",
    "        except:\n",
    "            pass\n",
    "\n",
    "def listen_server():\n",
    "    while server:\n",
    "        try:\n",
    "            conn, addr = server.accept()\n",
    "            start_new_thread(listen_client, (conn, addr))\n",
    "        except:\n",
    "            pass\n",
    "\n",
    "def list_clients():\n",
    "    for c in clients:\n",
    "        print(c[0])\n",
    "\n",
    "def stop_server():\n",
    "    global key\n",
    "    global cipher\n",
    "    global clients\n",
    "    global server\n",
    "    key = None\n",
    "    cipher = None\n",
    "    for client in clients:\n",
    "        client[1].close()\n",
    "    clients = []\n",
    "    if server:\n",
    "        server.close()\n",
    "        server = None\n",
    "\n",
    "def start_server(ip, port):\n",
    "    global server\n",
    "    stop_server()\n",
    "    server = socket.socket(socket.AF_INET, socket.SOCK_STREAM)\n",
    "    server.setsockopt(socket.SOL_SOCKET, socket.SO_REUSEADDR, 1)\n",
    "    server.bind((ip, port))\n",
    "    server.listen(100)\n",
    "    start_new_thread(listen_server, ())\n",
    "\n",
    "def answer_client(result):\n",
    "    global key\n",
    "    global source_secret\n",
    "    global waiting_answer_client\n",
    "    source_secret = generate_secret(prime)\n",
    "    key = str(diffie_hellman_key(prime, source_secret, int.from_bytes(result, byteorder='big')))\n",
    "    waiting_answer_client.send(diffie_hellman_public(prime, alfa, source_secret).to_bytes(10, byteorder='big'))\n",
    "    waiting_answer_client = None\n",
    "\n",
    "def command_check(text):\n",
    "    global key\n",
    "    global cipher\n",
    "    if text[:6] == '\\crypt':\n",
    "        cipher = ciphers.get(text[7:])\n",
    "        if not cipher:\n",
    "            key = None\n",
    "        return True\n",
    "    return False\n",
    "\n",
    "def show_msg(ip, text, client):\n",
    "    global key\n",
    "    global source_secret\n",
    "    text = str(text, 'utf-8')\n",
    "    is_command = command_check(text)\n",
    "    if not is_command and cipher:\n",
    "        if cipher == SDES:\n",
    "            print(ip, ':', SDES_Decode(key, text))\n",
    "        else:\n",
    "            print(ip, ':', cipher(key, text))\n",
    "    else:\n",
    "        print(ip, ':', text)\n",
    "    if is_command and cipher:\n",
    "        source_secret = generate_secret(prime)\n",
    "        client.send(diffie_hellman_public(prime, alfa, source_secret).to_bytes(10, byteorder='big'))\n",
    "        key = str(diffie_hellman_key(prime, source_secret, int.from_bytes(client.recv(2048), byteorder='big')))\n",
    "\n",
    "def send_msg(ip, text):\n",
    "    global waiting_answer_client\n",
    "    is_command = command_check(text)\n",
    "    for client in clients:\n",
    "        if client[0] == ip:\n",
    "            try:\n",
    "                if is_command and cipher:\n",
    "                    waiting_answer_client = client[1]\n",
    "                if not is_command and cipher:\n",
    "                    client[1].send(cipher(key, text).encode())\n",
    "                else:\n",
    "                    client[1].send(bytes(text, 'utf-8'))\n",
    "            except:\n",
    "                pass"
   ]
  },
  {
   "cell_type": "code",
   "execution_count": 2,
   "metadata": {},
   "outputs": [
    {
     "name": "stdout",
     "output_type": "stream",
     "text": [
      "127.0.0.1 connected!\n",
      "127.0.0.1 : \\crypt rc4\n",
      "127.0.0.1 : Hello\n"
     ]
    }
   ],
   "source": [
    "start_server('localhost', 5354)"
   ]
  },
  {
   "cell_type": "code",
   "execution_count": 3,
   "metadata": {},
   "outputs": [
    {
     "name": "stdout",
     "output_type": "stream",
     "text": [
      "127.0.0.1\n"
     ]
    }
   ],
   "source": [
    "list_clients()"
   ]
  },
  {
   "cell_type": "code",
   "execution_count": 4,
   "metadata": {},
   "outputs": [],
   "source": [
    "send_msg('127.0.0.1', 'Hello')"
   ]
  },
  {
   "cell_type": "code",
   "execution_count": 5,
   "metadata": {},
   "outputs": [],
   "source": [
    "send_msg('127.0.0.1', '\\crypt')"
   ]
  },
  {
   "cell_type": "code",
   "execution_count": 6,
   "metadata": {},
   "outputs": [
    {
     "name": "stdout",
     "output_type": "stream",
     "text": [
      "127.0.0.1 : Hello\n",
      "127.0.0.1 : \\crypt rc4\n",
      "127.0.0.1 : Hello\n"
     ]
    }
   ],
   "source": [
    "send_msg('127.0.0.1', 'Hello')"
   ]
  },
  {
   "cell_type": "code",
   "execution_count": 7,
   "metadata": {},
   "outputs": [],
   "source": [
    "send_msg('127.0.0.1', '\\crypt sdes')"
   ]
  },
  {
   "cell_type": "code",
   "execution_count": 8,
   "metadata": {},
   "outputs": [
    {
     "name": "stdout",
     "output_type": "stream",
     "text": [
      "127.0.0.1 : Hello\n",
      "127.0.0.1 : \\crypt\n",
      "127.0.0.1 : Hello\n"
     ]
    }
   ],
   "source": [
    "send_msg('127.0.0.1', 'Hello')"
   ]
  },
  {
   "cell_type": "code",
   "execution_count": 9,
   "metadata": {
    "scrolled": true
   },
   "outputs": [],
   "source": [
    "stop_server()"
   ]
  }
 ],
 "metadata": {
  "kernelspec": {
   "display_name": "Python 3",
   "language": "python",
   "name": "python3"
  },
  "language_info": {
   "codemirror_mode": {
    "name": "ipython",
    "version": 3
   },
   "file_extension": ".py",
   "mimetype": "text/x-python",
   "name": "python",
   "nbconvert_exporter": "python",
   "pygments_lexer": "ipython3",
   "version": "3.6.5"
  }
 },
 "nbformat": 4,
 "nbformat_minor": 2
}
