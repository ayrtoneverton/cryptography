{
 "cells": [
  {
   "cell_type": "code",
   "execution_count": 72,
   "metadata": {},
   "outputs": [
    {
     "name": "stdout",
     "output_type": "stream",
     "text": [
      "\n",
      "Plaintext:  Plaintext\n",
      "encrypted:  BBF316E8D940AF0AD3\n",
      "dencrypted:  Plaintext\n",
      "\n",
      "Plaintext:  Attack at dawn\n",
      "encrypted:  45A01F645FC35B383552544B9BF5\n",
      "dencrypted:  Attack at dawn\n",
      "\n",
      "Plaintext:  Expected hexadecimal\n",
      "encrypted:  06CCB1CD2F69EB1964C2D433631AF57596360A30\n",
      "dencrypted:  Expected hexadecimal\n"
     ]
    }
   ],
   "source": [
    "def RC4(key, text):\n",
    "    # initialization\n",
    "    key = [ord(c) for c in key]\n",
    "    key_len = len(key)\n",
    "    S = list(range(256))\n",
    "    j = 0\n",
    "\n",
    "    # initial permutation\n",
    "    for i in range(256):\n",
    "        j = (j + S[i] + key[i % key_len]) % 256\n",
    "        S[i], S[j] = S[j], S[i]\n",
    "\n",
    "    # flow Generation\n",
    "    i, j = 0, 0\n",
    "    result = []\n",
    "    for c in text:\n",
    "        i = (i + 1) % 256\n",
    "        j = (j + S[i]) % 256\n",
    "        S[i], S[j] = S[j], S[i]\n",
    "        result.append(chr(ord(c) ^ S[(S[i] + S[j]) % 256]))\n",
    "    return ''.join(result)\n",
    "\n",
    "def print_result_hexadecimal(key, text):\n",
    "    encrypted = RC4(key, text)\n",
    "    dencrypted = RC4(key, encrypted)\n",
    "    encrypted = ''.join(['%02X' % ord(c) for c in encrypted])\n",
    "    print()\n",
    "    print('Plaintext: ', text)\n",
    "    print('encrypted: ', encrypted)\n",
    "    print('dencrypted: ', dencrypted)\n",
    "\n",
    "# expected hexadecimal: BBF316E8D940AF0AD3\n",
    "print_result_hexadecimal('Key', 'Plaintext')\n",
    "\n",
    "# expected hexadecimal: 45A01F645FC35B383552544B9BF5\n",
    "print_result_hexadecimal('Secret', 'Attack at dawn')\n",
    "\n",
    "# expected hexadecimal: 06CCB1CD2F69EB1964C2D433631AF57596360A30\n",
    "print_result_hexadecimal('hexadecimal', 'Expected hexadecimal')"
   ]
  }
 ],
 "metadata": {
  "kernelspec": {
   "display_name": "Python 3",
   "language": "python",
   "name": "python3"
  },
  "language_info": {
   "codemirror_mode": {
    "name": "ipython",
    "version": 3
   },
   "file_extension": ".py",
   "mimetype": "text/x-python",
   "name": "python",
   "nbconvert_exporter": "python",
   "pygments_lexer": "ipython3",
   "version": "3.6.5"
  }
 },
 "nbformat": 4,
 "nbformat_minor": 2
}
