{
 "cells": [
  {
   "cell_type": "code",
   "execution_count": 1,
   "metadata": {},
   "outputs": [
    {
     "data": {
      "text/plain": [
       "('encrypted: ', '»ó\\x16èÙ@¯\\nÓ', 'dencrypted: ', 'Plaintext')"
      ]
     },
     "execution_count": 1,
     "metadata": {},
     "output_type": "execute_result"
    }
   ],
   "source": [
    "def RC4(key, text):\n",
    "    # initialization\n",
    "    key = [ord(c) for c in key]\n",
    "    key_len = len(key)\n",
    "    S = list(range(256))\n",
    "    j = 0\n",
    "\n",
    "    # initial permutation\n",
    "    for i in range(256):\n",
    "        j = (j + S[i] + key[i % key_len]) % 256\n",
    "        S[i], S[j] = S[j], S[i]\n",
    "\n",
    "    # flow Generation\n",
    "    i, j = 0, 0\n",
    "    result = []\n",
    "    for c in text:\n",
    "        i = (i + 1) % 256\n",
    "        j = (j + S[i]) % 256\n",
    "        S[i], S[j] = S[j], S[i]\n",
    "        result.append(chr(ord(c) ^ S[(S[i] + S[j]) % 256]))\n",
    "\n",
    "        # to expected result wiki example\n",
    "        # result.append('%02X' % (ord(c) ^ S[(S[i] + S[j]) % 256]))\n",
    "    return ''.join(result)\n",
    "\n",
    "# tests available at https://en.wikipedia.org/wiki/RC4\n",
    "\n",
    "# expected: BBF316E8D940AF0AD3\n",
    "key = 'Key'\n",
    "text = 'Plaintext'\n",
    "\n",
    "# expected: 1021BF0420\n",
    "# key = 'Wiki'\n",
    "# text = 'pedia'\n",
    "\n",
    "# expected: 45A01F645FC35B383552544B9BF5\n",
    "# key = 'Secret'\n",
    "# text = 'Attack at dawn'\n",
    "\n",
    "encrypted = RC4(key, text)\n",
    "\n",
    "'encrypted: ', encrypted, 'dencrypted: ', RC4(key, encrypted)"
   ]
  }
 ],
 "metadata": {
  "kernelspec": {
   "display_name": "Python 3",
   "language": "python",
   "name": "python3"
  },
  "language_info": {
   "codemirror_mode": {
    "name": "ipython",
    "version": 3
   },
   "file_extension": ".py",
   "mimetype": "text/x-python",
   "name": "python",
   "nbconvert_exporter": "python",
   "pygments_lexer": "ipython3",
   "version": "3.6.5"
  }
 },
 "nbformat": 4,
 "nbformat_minor": 2
}
