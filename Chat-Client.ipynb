{
 "cells": [
  {
   "cell_type": "code",
   "execution_count": 1,
   "metadata": {},
   "outputs": [],
   "source": [
    "%%capture\n",
    "%run Diffie-Hellman.ipynb\n",
    "%run RC4.ipynb\n",
    "%run SDES.ipynb\n",
    "\n",
    "import socket\n",
    "from _thread import start_new_thread\n",
    "\n",
    "key = None\n",
    "cipher = None\n",
    "ciphers = {'rc4': RC4, 'sdes': SDES}\n",
    "server = None\n",
    "waiting_answer_client = False\n",
    "source_secret = None\n",
    "# Note: using prime and alfa defined in Diffie-Hellman\n",
    "\n",
    "def listen_server():\n",
    "    while server:\n",
    "        try:\n",
    "            result = server.recv(2048)\n",
    "            if waiting_answer_client:\n",
    "                answer_client(result)\n",
    "            else:\n",
    "                show_msg(result)\n",
    "        except:\n",
    "            pass\n",
    "\n",
    "def stop_client():\n",
    "    global key\n",
    "    global cipher\n",
    "    global server\n",
    "    key = None\n",
    "    cipher = None\n",
    "    if server:\n",
    "        server.close()\n",
    "        server = None\n",
    "\n",
    "def start_client(ip, port):\n",
    "    global server\n",
    "    stop_client()\n",
    "    server = socket.socket(socket.AF_INET, socket.SOCK_STREAM)\n",
    "    server.connect((ip, port))\n",
    "    start_new_thread(listen_server, ())\n",
    "    send_msg('\\crypt rc4')\n",
    "\n",
    "def answer_client(result):\n",
    "    global key\n",
    "    global source_secret\n",
    "    global waiting_answer_client\n",
    "    source_secret = generate_secret(prime)\n",
    "    key = str(diffie_hellman_key(prime, source_secret, int.from_bytes(result, byteorder='big')))\n",
    "    server.send(diffie_hellman_public(prime, alfa, source_secret).to_bytes(10, byteorder='big'))\n",
    "    waiting_answer_client = False\n",
    "\n",
    "def command_check(text):\n",
    "    global key\n",
    "    global cipher\n",
    "    if text[:6] == '\\crypt':\n",
    "        cipher = ciphers.get(text[7:])\n",
    "        if not cipher:\n",
    "            key = None\n",
    "        return True\n",
    "    return False\n",
    "\n",
    "def show_msg(text):\n",
    "    global key\n",
    "    global source_secret\n",
    "    text = str(text, 'utf-8')\n",
    "    is_command = command_check(text)\n",
    "    if not is_command and cipher:\n",
    "        if cipher == SDES:\n",
    "            print('Server:', SDES_Decode(key, text))\n",
    "        else:\n",
    "            print('Server:', cipher(key, text))\n",
    "    else:\n",
    "        print('Server :', text)\n",
    "    if is_command and cipher:\n",
    "        source_secret = generate_secret(prime)\n",
    "        server.send(diffie_hellman_public(prime, alfa, source_secret).to_bytes(10, byteorder='big'))\n",
    "        key = str(diffie_hellman_key(prime, source_secret, int.from_bytes(server.recv(2048), byteorder='big')))\n",
    "\n",
    "def send_msg(text):\n",
    "    global waiting_answer_client\n",
    "    try:\n",
    "        is_command = command_check(text)\n",
    "        if is_command and cipher:\n",
    "            waiting_answer_client = True\n",
    "        if not is_command and cipher:\n",
    "            server.send(cipher(key, text).encode())\n",
    "        else:\n",
    "            server.send(bytes(text, 'utf-8'))\n",
    "    except:\n",
    "        pass"
   ]
  },
  {
   "cell_type": "code",
   "execution_count": 2,
   "metadata": {},
   "outputs": [],
   "source": [
    "start_client('localhost', 5354)"
   ]
  },
  {
   "cell_type": "code",
   "execution_count": 3,
   "metadata": {},
   "outputs": [
    {
     "name": "stdout",
     "output_type": "stream",
     "text": [
      "Server: Hello\n",
      "Server : \\crypt\n",
      "Server : Hello\n"
     ]
    }
   ],
   "source": [
    "send_msg('Hello')"
   ]
  },
  {
   "cell_type": "code",
   "execution_count": 4,
   "metadata": {},
   "outputs": [],
   "source": [
    "send_msg('Hello')"
   ]
  },
  {
   "cell_type": "code",
   "execution_count": 5,
   "metadata": {},
   "outputs": [],
   "source": [
    "send_msg('\\crypt rc4')"
   ]
  },
  {
   "cell_type": "code",
   "execution_count": 6,
   "metadata": {},
   "outputs": [
    {
     "name": "stdout",
     "output_type": "stream",
     "text": [
      "Server : \\crypt sdes\n",
      "Server: Hello\n"
     ]
    }
   ],
   "source": [
    "send_msg('Hello')"
   ]
  },
  {
   "cell_type": "code",
   "execution_count": 7,
   "metadata": {},
   "outputs": [],
   "source": [
    "send_msg('Hello')"
   ]
  },
  {
   "cell_type": "code",
   "execution_count": 8,
   "metadata": {},
   "outputs": [],
   "source": [
    "send_msg('\\crypt')"
   ]
  },
  {
   "cell_type": "code",
   "execution_count": 9,
   "metadata": {},
   "outputs": [],
   "source": [
    "send_msg('Hello')"
   ]
  },
  {
   "cell_type": "code",
   "execution_count": 10,
   "metadata": {},
   "outputs": [],
   "source": [
    "stop_client()"
   ]
  }
 ],
 "metadata": {
  "kernelspec": {
   "display_name": "Python 3",
   "language": "python",
   "name": "python3"
  },
  "language_info": {
   "codemirror_mode": {
    "name": "ipython",
    "version": 3
   },
   "file_extension": ".py",
   "mimetype": "text/x-python",
   "name": "python",
   "nbconvert_exporter": "python",
   "pygments_lexer": "ipython3",
   "version": "3.6.5"
  }
 },
 "nbformat": 4,
 "nbformat_minor": 2
}
