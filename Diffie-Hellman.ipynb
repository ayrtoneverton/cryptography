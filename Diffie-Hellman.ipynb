{
 "cells": [
  {
   "cell_type": "code",
   "execution_count": 1,
   "metadata": {},
   "outputs": [],
   "source": [
    "import random\n",
    "\n",
    "def generate_secret(prime):\n",
    "    return random.randint(0, prime)\n",
    "\n",
    "def diffie_hellman_public(prime, alfa, source_secret):\n",
    "    return (alfa ** source_secret) % prime\n",
    "\n",
    "def diffie_hellman_key(prime, source_secret, destination_public_key):\n",
    "    return (destination_public_key ** source_secret) % prime"
   ]
  },
  {
   "cell_type": "code",
   "execution_count": 2,
   "metadata": {},
   "outputs": [
    {
     "name": "stdout",
     "output_type": "stream",
     "text": [
      "Source Public Key:  346\n",
      "Destination Public Key:  85\n",
      "\n",
      "Source Key:  59\n",
      "Destination Key:  59\n"
     ]
    }
   ],
   "source": [
    "prime = 353\n",
    "alfa = 3\n",
    "source_secret = generate_secret(prime)\n",
    "destination_secret = generate_secret(prime)\n",
    "\n",
    "source_public_key = diffie_hellman_public(prime, alfa, source_secret)\n",
    "destination_public_key = diffie_hellman_public(prime, alfa, destination_secret)\n",
    "\n",
    "print('Source Public Key: ', source_public_key)\n",
    "print('Destination Public Key: ', destination_public_key)\n",
    "print()\n",
    "print('Source Key: ', diffie_hellman_key(prime, source_secret, destination_public_key))\n",
    "print('Destination Key: ', diffie_hellman_key(prime, destination_secret, source_public_key))"
   ]
  }
 ],
 "metadata": {
  "kernelspec": {
   "display_name": "Python 3",
   "language": "python",
   "name": "python3"
  },
  "language_info": {
   "codemirror_mode": {
    "name": "ipython",
    "version": 3
   },
   "file_extension": ".py",
   "mimetype": "text/x-python",
   "name": "python",
   "nbconvert_exporter": "python",
   "pygments_lexer": "ipython3",
   "version": "3.6.5"
  }
 },
 "nbformat": 4,
 "nbformat_minor": 2
}
